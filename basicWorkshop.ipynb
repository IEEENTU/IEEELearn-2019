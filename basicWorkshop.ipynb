{
 "cells": [
  {
   "cell_type": "markdown",
   "metadata": {},
   "source": [
    "# BASIC PYTHON WORKSHOP\n",
    "\n",
    "## Basic Introduction to the Python Programming Language to kickstart your programming journey!\n",
    "\n",
    "Python requires an interpretor to run, unlike C and C++ which are compiler languages. \n",
    "We're using Jupyter Notebook over here, there are several others like iDLE, xCode etc.\n",
    "\n",
    "We'll point out the syntax differences and nuisances as we proceed, to start with, notice python does not require every line of code to end with a semi-colon(;) unlike many other languages.\n",
    "\n",
    "'print' statement is the most basic 'function' which is used to print an expression or variable in the console. \n"
   ]
  },
  {
   "cell_type": "code",
   "execution_count": 2,
   "metadata": {},
   "outputs": [
    {
     "name": "stdout",
     "output_type": "stream",
     "text": [
      "Hello world\n"
     ]
    }
   ],
   "source": [
    "print(\"Hello world\")"
   ]
  },
  {
   "cell_type": "markdown",
   "metadata": {},
   "source": [
    "### What are expressions?\n",
    "\n",
    "Expressions are representations of value. They are different from 'statement' in the fact that statements do something while expressions are representation of value.\n",
    "\n",
    "Here are some examples of mathematical expressions."
   ]
  },
  {
   "cell_type": "code",
   "execution_count": 3,
   "metadata": {},
   "outputs": [
    {
     "data": {
      "text/plain": [
       "11"
      ]
     },
     "execution_count": 3,
     "metadata": {},
     "output_type": "execute_result"
    }
   ],
   "source": [
    "5+6"
   ]
  },
  {
   "cell_type": "code",
   "execution_count": 4,
   "metadata": {},
   "outputs": [
    {
     "data": {
      "text/plain": [
       "3"
      ]
     },
     "execution_count": 4,
     "metadata": {},
     "output_type": "execute_result"
    }
   ],
   "source": [
    "10-7"
   ]
  },
  {
   "cell_type": "code",
   "execution_count": 5,
   "metadata": {},
   "outputs": [
    {
     "data": {
      "text/plain": [
       "20"
      ]
     },
     "execution_count": 5,
     "metadata": {},
     "output_type": "execute_result"
    }
   ],
   "source": [
    "4*5"
   ]
  },
  {
   "cell_type": "code",
   "execution_count": 6,
   "metadata": {},
   "outputs": [
    {
     "data": {
      "text/plain": [
       "2.4"
      ]
     },
     "execution_count": 6,
     "metadata": {},
     "output_type": "execute_result"
    }
   ],
   "source": [
    "12/5"
   ]
  },
  {
   "cell_type": "code",
   "execution_count": 7,
   "metadata": {},
   "outputs": [
    {
     "data": {
      "text/plain": [
       "2"
      ]
     },
     "execution_count": 7,
     "metadata": {},
     "output_type": "execute_result"
    }
   ],
   "source": [
    "12%5"
   ]
  },
  {
   "cell_type": "code",
   "execution_count": 8,
   "metadata": {},
   "outputs": [
    {
     "data": {
      "text/plain": [
       "16"
      ]
     },
     "execution_count": 8,
     "metadata": {},
     "output_type": "execute_result"
    }
   ],
   "source": [
    "2**4"
   ]
  },
  {
   "cell_type": "markdown",
   "metadata": {},
   "source": [
    "#### Logical Expressions\n",
    "\n",
    "Returns a Boolean - 'True' or 'False' \n",
    "\n",
    "Some examples are listed below."
   ]
  },
  {
   "cell_type": "code",
   "execution_count": 1,
   "metadata": {},
   "outputs": [
    {
     "data": {
      "text/plain": [
       "True"
      ]
     },
     "execution_count": 1,
     "metadata": {},
     "output_type": "execute_result"
    }
   ],
   "source": [
    "1==1\n",
    "1==2\n",
    "2!=1\n",
    "True & False\n",
    "True | False "
   ]
  },
  {
   "cell_type": "markdown",
   "metadata": {},
   "source": [
    "### Q1. (True and False) or (False or True)"
   ]
  },
  {
   "cell_type": "markdown",
   "metadata": {},
   "source": [
    "## Variables in Python\n",
    "\n",
    "Variables are basically symbolic representation of a memory space, which can be assigned to any expression, and can be then further used in functions, mathematical expressions and statements.\n",
    "\n",
    "Here, s is a variable which is assigned \"Hello World\" expression, and the print statement then prints 's' in the console, you can obviously guess the output."
   ]
  },
  {
   "cell_type": "code",
   "execution_count": 2,
   "metadata": {},
   "outputs": [
    {
     "name": "stdout",
     "output_type": "stream",
     "text": [
      "Hello world\n"
     ]
    }
   ],
   "source": [
    "s=\"Hello world\"\n",
    "print(s)"
   ]
  },
  {
   "cell_type": "markdown",
   "metadata": {},
   "source": [
    "Mathematical Expressions can also be directly assigned to variables.\n",
    "\n",
    "Python does not require the programmer to decalre the 'Data-Type' for example string or integer while declaring a variable and follows a dynamic declaration process.\n"
   ]
  },
  {
   "cell_type": "code",
   "execution_count": 9,
   "metadata": {},
   "outputs": [
    {
     "name": "stdout",
     "output_type": "stream",
     "text": [
      "14\n"
     ]
    }
   ],
   "source": [
    "x=9+5\n",
    "print(x)"
   ]
  },
  {
   "cell_type": "markdown",
   "metadata": {},
   "source": [
    "We can use the 'type' function on a variable to know it's datatype."
   ]
  },
  {
   "cell_type": "code",
   "execution_count": 10,
   "metadata": {},
   "outputs": [
    {
     "data": {
      "text/plain": [
       "int"
      ]
     },
     "execution_count": 10,
     "metadata": {},
     "output_type": "execute_result"
    }
   ],
   "source": [
    "type(x)"
   ]
  },
  {
   "cell_type": "markdown",
   "metadata": {},
   "source": [
    "##### Rules for Variable Declaration\n",
    "\n",
    "There are certain rules that need to be followed while declaring a variable.\n",
    "\n",
    "<img src=\"image1.png\">"
   ]
  },
  {
   "cell_type": "markdown",
   "metadata": {},
   "source": [
    "### Apart from these rules, there are certain conventions that the programmers often follow.\n",
    "\n",
    "<img src=\"image2.png\">"
   ]
  },
  {
   "cell_type": "markdown",
   "metadata": {},
   "source": [
    "## Basic Control Flows\n",
    "\n",
    "Control Flow allows the programmer to decide the final decision after passing through one or many logical checks.\n",
    "\n",
    "One such control flow is the if-elif-else. Let's see it in action.\n",
    "\n",
    ".make an if-else flow-chart."
   ]
  },
  {
   "cell_type": "code",
   "execution_count": 19,
   "metadata": {},
   "outputs": [
    {
     "name": "stdout",
     "output_type": "stream",
     "text": [
      "Will you attend the IEEELearn workshop? Input your decision\n"
     ]
    },
    {
     "name": "stdin",
     "output_type": "stream",
     "text": [
      " yes\n"
     ]
    },
    {
     "name": "stdout",
     "output_type": "stream",
     "text": [
      "PIZZA TIME!\n"
     ]
    }
   ],
   "source": [
    "print(\"Will you attend the IEEELearn workshop? Input your decision\")\n",
    "decision=input()\n",
    "decision=decision.lower()\n",
    "if(decision=='yes'):\n",
    "    print(\"PIZZA TIME!\")\n",
    "else:\n",
    "    print(\"Sorry, no pizza for you\")\n"
   ]
  },
  {
   "cell_type": "markdown",
   "metadata": {},
   "source": [
    "### Important Syntax Points for if-elif-else\n",
    "-  Colon to mark the beginning of the suite\n",
    "-  Proper indentation for the suite of code\n",
    "\n",
    "You may noticed the use of two new functions here, 'input' and 'lower'.\n",
    "\n",
    "Input function enables the user of the program to input a string at run-time.\n",
    "\n",
    "Lower is a string function which converts the entire string to lower-case if their are any alphabets in it.\n",
    "\n",
    "Here is another similar examples"
   ]
  },
  {
   "cell_type": "code",
   "execution_count": 20,
   "metadata": {},
   "outputs": [
    {
     "name": "stdout",
     "output_type": "stream",
     "text": [
      "Knock Knock\n"
     ]
    },
    {
     "name": "stdin",
     "output_type": "stream",
     "text": [
      " d\n"
     ]
    }
   ],
   "source": [
    "print(\"Knock Knock\")\n",
    "decision=input()\n",
    "decision=decision.lower()\n",
    "if(decision==\"who's there\"):\n",
    "    print(\"\")\n"
   ]
  },
  {
   "cell_type": "code",
   "execution_count": 23,
   "metadata": {},
   "outputs": [
    {
     "name": "stdout",
     "output_type": "stream",
     "text": [
      "34\n"
     ]
    }
   ],
   "source": [
    "print(10*3+4)"
   ]
  },
  {
   "cell_type": "markdown",
   "metadata": {},
   "source": [
    "### Q2. Write a program to add numbers if input is 1, and subtract numbers in input is 2, multiply if input is 3 and divide if input is 4. Display an error message with any other input. "
   ]
  },
  {
   "cell_type": "markdown",
   "metadata": {},
   "source": [
    "## Loops and Iterations\n",
    "\n",
    "We use several different types of loops to logically repeat certain expressions or statements, until a defined 'break' is reached.\n",
    "\n",
    "A loop in general has 3 components.\n",
    "-  Initialisation\n",
    "-  Check\n",
    "-  Updation"
   ]
  },
  {
   "cell_type": "code",
   "execution_count": 31,
   "metadata": {},
   "outputs": [
    {
     "name": "stdout",
     "output_type": "stream",
     "text": [
      "0\n",
      "1\n",
      "2\n",
      "3\n",
      "4\n",
      "5\n"
     ]
    }
   ],
   "source": [
    "i=0\n",
    "while (i<6):\n",
    "    print(i)\n",
    "    i=i+1"
   ]
  },
  {
   "cell_type": "markdown",
   "metadata": {},
   "source": [
    "Here, a while loop is shown.\n",
    "\n",
    "Another type of loop is a 'for' loop.\n",
    "\n",
    "Here the range function is used, which lists all the integers from the inputted start and finish point, excluding the finish, with the default step of 1."
   ]
  },
  {
   "cell_type": "code",
   "execution_count": 47,
   "metadata": {},
   "outputs": [
    {
     "name": "stdout",
     "output_type": "stream",
     "text": [
      "0\n",
      "1\n",
      "2\n",
      "3\n",
      "4\n"
     ]
    }
   ],
   "source": [
    "for i in range(0,5):\n",
    "    print(i)"
   ]
  },
  {
   "cell_type": "markdown",
   "metadata": {},
   "source": [
    "The 'in' keyword can also be used to iterate over a string, list or array.\n",
    "\n",
    "<img src=\"image3.jpg\">"
   ]
  },
  {
   "cell_type": "code",
   "execution_count": 51,
   "metadata": {},
   "outputs": [
    {
     "name": "stdout",
     "output_type": "stream",
     "text": [
      "p\n",
      "y\n",
      "t\n",
      "h\n",
      "o\n",
      "n\n"
     ]
    }
   ],
   "source": [
    "word=\"python\"\n",
    "for i in word:\n",
    "    print(i)"
   ]
  },
  {
   "cell_type": "markdown",
   "metadata": {},
   "source": [
    "## Counter Controlled vs. Sentinel Controlled Loops\n",
    "\n",
    "The first example of while loop was a counter controlled loop as it runs while a counter reaches a certain value.\n",
    "\n",
    "The following example is a sentinel controlled loop, which until a variable does take in a certain value.\n",
    "\n"
   ]
  },
  {
   "cell_type": "code",
   "execution_count": 52,
   "metadata": {},
   "outputs": [
    {
     "name": "stdout",
     "output_type": "stream",
     "text": [
      "Enter the numbers to be summed, enter -1 to exit\n"
     ]
    },
    {
     "name": "stdin",
     "output_type": "stream",
     "text": [
      " 0\n",
      " -1\n"
     ]
    },
    {
     "name": "stdout",
     "output_type": "stream",
     "text": [
      "0\n"
     ]
    }
   ],
   "source": [
    "sum=0\n",
    "print(\"Enter the numbers to be summed, enter -1 to exit\")\n",
    "digit=int(input())\n",
    "if(digit!=-1):\n",
    "    while(digit!=-1):\n",
    "        sum=sum+digit\n",
    "        digit=int(input())\n",
    "    \n",
    "print(sum)"
   ]
  },
  {
   "cell_type": "markdown",
   "metadata": {},
   "source": [
    "### Q3. Write a loop to print all the numbers below 100 that are divisible by 2 and 3. "
   ]
  },
  {
   "cell_type": "markdown",
   "metadata": {},
   "source": [
    "The len() function returns the length of a string."
   ]
  },
  {
   "cell_type": "markdown",
   "metadata": {},
   "source": [
    "### String Indexing\n",
    "\n",
    "<img src=\"image4.png\">"
   ]
  },
  {
   "cell_type": "code",
   "execution_count": 63,
   "metadata": {},
   "outputs": [
    {
     "name": "stdout",
     "output_type": "stream",
     "text": [
      "Enter a word to count consonants and vowels\n"
     ]
    },
    {
     "name": "stdin",
     "output_type": "stream",
     "text": [
      " anusha\n"
     ]
    },
    {
     "name": "stdout",
     "output_type": "stream",
     "text": [
      "3\n"
     ]
    }
   ],
   "source": [
    "sum_vowels=0\n",
    "print(\"Enter a word to count consonants and vowels\")\n",
    "word=input()\n",
    "for i in range(0, len(word)):\n",
    "    if(word[i]=='a'or word[i]=='e'or word[i]=='i'or word[i]=='o'or word[i]=='u'):\n",
    "        sum_vowels+=1\n",
    "    else:\n",
    "        pass\n",
    "print(sum_vowels)"
   ]
  },
  {
   "cell_type": "code",
   "execution_count": 66,
   "metadata": {},
   "outputs": [],
   "source": [
    "i=0\n",
    "while i>=0:\n",
    "    print(i)\n",
    "    i+=1\n",
    "    "
   ]
  },
  {
   "cell_type": "markdown",
   "metadata": {},
   "source": [
    "## Break/Pass/Continue\n",
    "\n",
    "Used to break, pass or continue in a block of code. A block of code is defined by its indentation.\n",
    "\n",
    "### Break \n",
    "The break statement terminates the loop containing it. Control of the program flows to the statement immediately after the body of the loop.\n",
    "\n",
    "### Continue\n",
    "The continue statement in Python returns the control to the beginning of the current loop. When encountered, the loop starts next iteration without executing the remaining statements in the current iteration.\n",
    "\n",
    "### Pass\n",
    "It is used when a statement is required syntactically but you do not want any command or code to execute.\n",
    "The pass statement is a null operation; nothing happens when it executes. \n"
   ]
  },
  {
   "cell_type": "code",
   "execution_count": 9,
   "metadata": {},
   "outputs": [
    {
     "name": "stdout",
     "output_type": "stream",
     "text": [
      "10\n",
      "9\n",
      "8\n",
      "7\n",
      "6\n",
      "5\n"
     ]
    }
   ],
   "source": [
    "x=10;\n",
    "\n",
    "while x>0:\n",
    "  print(x)\n",
    "  x=x-1\n",
    "  if(x<5):\n",
    "    break\n",
    "  else:\n",
    "    continue "
   ]
  },
  {
   "cell_type": "markdown",
   "metadata": {},
   "source": [
    "### Q4. Add all user inputs until sum is lesser than 50. "
   ]
  },
  {
   "cell_type": "markdown",
   "metadata": {},
   "source": [
    "# Range Function\n",
    "\n",
    "<img src=\"image6.png\">\n",
    "\n",
    "Default Step is 1."
   ]
  },
  {
   "cell_type": "code",
   "execution_count": 67,
   "metadata": {},
   "outputs": [
    {
     "name": "stdout",
     "output_type": "stream",
     "text": [
      "p\n",
      "y\n",
      "t\n",
      "h\n",
      "o\n",
      "n\n"
     ]
    }
   ],
   "source": [
    "string=\"python\"\n",
    "for i in range(0, len(string)):\n",
    "    print(string[i])"
   ]
  },
  {
   "cell_type": "code",
   "execution_count": 68,
   "metadata": {},
   "outputs": [
    {
     "name": "stdout",
     "output_type": "stream",
     "text": [
      "p\n",
      "t\n",
      "o\n"
     ]
    }
   ],
   "source": [
    "string=\"python\"\n",
    "for i in range(0, len(string), 2):\n",
    "    print(string[i])"
   ]
  },
  {
   "cell_type": "markdown",
   "metadata": {},
   "source": [
    "## Nested Loops\n",
    "\n",
    "Python programming language allows to use one loop inside another loop. "
   ]
  },
  {
   "cell_type": "code",
   "execution_count": 12,
   "metadata": {},
   "outputs": [
    {
     "name": "stdout",
     "output_type": "stream",
     "text": [
      "number1 is 0\n",
      "number2 is 0\n",
      "number1+number2= 0\n",
      "\n",
      "\n",
      "number1 is 0\n",
      "number2 is 1\n",
      "number1+number2= 1\n",
      "\n",
      "\n",
      "number1 is 0\n",
      "number2 is 2\n",
      "number1+number2= 2\n",
      "\n",
      "\n",
      "number1 is 1\n",
      "number2 is 0\n",
      "number1+number2= 1\n",
      "\n",
      "\n",
      "number1 is 1\n",
      "number2 is 1\n",
      "number1+number2= 2\n",
      "\n",
      "\n",
      "number1 is 1\n",
      "number2 is 2\n",
      "number1+number2= 3\n",
      "\n",
      "\n",
      "number1 is 2\n",
      "number2 is 0\n",
      "number1+number2= 2\n",
      "\n",
      "\n",
      "number1 is 2\n",
      "number2 is 1\n",
      "number1+number2= 3\n",
      "\n",
      "\n",
      "number1 is 2\n",
      "number2 is 2\n",
      "number1+number2= 4\n",
      "\n",
      "\n"
     ]
    }
   ],
   "source": [
    "for number1 in range(0,3):\n",
    "  for number2 in range(0,3):\n",
    "    print(\"number1 is\", number1)\n",
    "    print(\"number2 is\", number2)\n",
    "    print(\"number1+number2=\", number1+number2)\n",
    "    print(\"\\n\")"
   ]
  },
  {
   "cell_type": "markdown",
   "metadata": {},
   "source": [
    "### Q5. Write a loop to print the first 100 prime numbers. "
   ]
  },
  {
   "cell_type": "markdown",
   "metadata": {},
   "source": [
    "# Strings\n",
    "\n",
    "## Basic String Functions\n",
    "\n",
    "<img src=\"image5.png\">\n",
    "\n",
    "\n",
    "## String Slicing in Python \n",
    "\n",
    "Different methods of obtaining a Sub-string from a string.\n",
    "\n",
    "-  a[start:stop]  # items start through stop-1\n",
    "\n",
    "-  a[start:]      # items start through the rest of the string\n",
    "\n",
    "-  a[:stop]       # items from the beginning through stop-1\n",
    "\n",
    "-  a[:]           # a copy of the whole string\n",
    "\n",
    "There is also the step value, which can be used with any of the above:\n",
    "\n",
    "-  a[start:stop:step] # start through not past stop, by step"
   ]
  },
  {
   "cell_type": "code",
   "execution_count": 69,
   "metadata": {},
   "outputs": [
    {
     "name": "stdout",
     "output_type": "stream",
     "text": [
      "umpti\n"
     ]
    }
   ],
   "source": [
    "string=\"scrumptious\"\n",
    "new_string=string[3:8]\n",
    "print(new_string)"
   ]
  },
  {
   "cell_type": "code",
   "execution_count": 71,
   "metadata": {},
   "outputs": [
    {
     "name": "stdout",
     "output_type": "stream",
     "text": [
      "itpmu\n"
     ]
    }
   ],
   "source": [
    "string=\"scrumptious\"\n",
    "new_string=string[1:]\n",
    "print(new_string)"
   ]
  },
  {
   "cell_type": "code",
   "execution_count": 72,
   "metadata": {},
   "outputs": [
    {
     "name": "stdout",
     "output_type": "stream",
     "text": [
      "crumptious\n"
     ]
    }
   ],
   "source": [
    "string=\"scrumptious\"\n",
    "new_string=string[-4:-9:-1]\n",
    "print(new_string)"
   ]
  },
  {
   "cell_type": "code",
   "execution_count": 73,
   "metadata": {},
   "outputs": [
    {
     "name": "stdout",
     "output_type": "stream",
     "text": [
      "suoitpmurcs\n"
     ]
    }
   ],
   "source": [
    "string=\"scrumptious\"\n",
    "new_string=string[::-1]\n",
    "print(new_string)"
   ]
  },
  {
   "cell_type": "code",
   "execution_count": 74,
   "metadata": {},
   "outputs": [
    {
     "name": "stdout",
     "output_type": "stream",
     "text": [
      "6\n"
     ]
    }
   ],
   "source": [
    "string=\"python\"\n",
    "print(len(string))"
   ]
  },
  {
   "cell_type": "markdown",
   "metadata": {},
   "source": [
    "### Q6. Count the number of uppercase and lowercase characters in a string"
   ]
  },
  {
   "cell_type": "markdown",
   "metadata": {},
   "source": [
    "## String Concatenation using '+' operator\n",
    "\n",
    "Used to make a new string by putting together two separate strings end to end"
   ]
  },
  {
   "cell_type": "code",
   "execution_count": 75,
   "metadata": {},
   "outputs": [
    {
     "name": "stdout",
     "output_type": "stream",
     "text": [
      "heythere\n"
     ]
    }
   ],
   "source": [
    "string1=\"hey\"\n",
    "string2=\"there\"\n",
    "string_final= string1+string2\n",
    "print(string_final)"
   ]
  },
  {
   "cell_type": "code",
   "execution_count": 76,
   "metadata": {},
   "outputs": [
    {
     "name": "stdout",
     "output_type": "stream",
     "text": [
      "nomnomnomnomnomnomnomnomnomnom\n"
     ]
    }
   ],
   "source": [
    "string=\"nom\"\n",
    "print(string*10)"
   ]
  },
  {
   "cell_type": "code",
   "execution_count": 80,
   "metadata": {},
   "outputs": [
    {
     "name": "stdout",
     "output_type": "stream",
     "text": [
      "Enter a character to find ASCII value\n"
     ]
    },
    {
     "name": "stdin",
     "output_type": "stream",
     "text": [
      " a\n"
     ]
    },
    {
     "name": "stdout",
     "output_type": "stream",
     "text": [
      "97\n"
     ]
    }
   ],
   "source": [
    "print(\"Enter a character to find ASCII value\")\n",
    "a=input()\n",
    "print(ord('a'))"
   ]
  },
  {
   "cell_type": "code",
   "execution_count": 82,
   "metadata": {},
   "outputs": [
    {
     "name": "stdout",
     "output_type": "stream",
     "text": [
      "Enter an ASCII value to find character\n"
     ]
    },
    {
     "name": "stdin",
     "output_type": "stream",
     "text": [
      " 97\n"
     ]
    },
    {
     "name": "stdout",
     "output_type": "stream",
     "text": [
      "a\n"
     ]
    }
   ],
   "source": [
    "print(\"Enter an ASCII value to find character\")\n",
    "number=int(input())\n",
    "print(chr(number))"
   ]
  },
  {
   "cell_type": "markdown",
   "metadata": {},
   "source": [
    "### Q7. Find if a word is a palindrome.  "
   ]
  },
  {
   "cell_type": "code",
   "execution_count": null,
   "metadata": {},
   "outputs": [],
   "source": []
  }
 ],
 "metadata": {
  "kernelspec": {
   "display_name": "Python 3",
   "language": "python",
   "name": "python3"
  },
  "language_info": {
   "codemirror_mode": {
    "name": "ipython",
    "version": 3
   },
   "file_extension": ".py",
   "mimetype": "text/x-python",
   "name": "python",
   "nbconvert_exporter": "python",
   "pygments_lexer": "ipython3",
   "version": "3.7.1"
  }
 },
 "nbformat": 4,
 "nbformat_minor": 2
}
