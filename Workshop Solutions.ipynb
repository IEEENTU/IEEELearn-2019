{
 "cells": [
  {
   "cell_type": "markdown",
   "metadata": {
    "colab_type": "text",
    "id": "Wah3SnIbrDGY"
   },
   "source": [
    "<h1 align='center'> Solutions for IEEE' Basic and Advanced Python Workshops <h1>"
   ]
  },
  {
   "cell_type": "markdown",
   "metadata": {},
   "source": [
    "<h2 align='center'> Basic Python Workshop Solutions </h2>"
   ]
  },
  {
   "cell_type": "markdown",
   "metadata": {},
   "source": [
    "### Q1. (True and False) or (False or True)"
   ]
  },
  {
   "cell_type": "code",
   "execution_count": null,
   "metadata": {
    "colab": {
     "base_uri": "https://localhost:8080/",
     "height": 35
    },
    "colab_type": "code",
    "id": "Q3T7dROnu09o",
    "outputId": "3ed0a29d-7505-40dd-cea5-bbea3cc76e29"
   },
   "outputs": [],
   "source": [
    "(True and False) or (False or True)"
   ]
  },
  {
   "cell_type": "markdown",
   "metadata": {
    "colab_type": "text",
    "id": "6UQKR0SlrDGo"
   },
   "source": [
    "### Q2. Write a program to add numbers if input is 1, and subtract numbers in input is 2, multiply if input is 3 and divide if input is 4. Display an error message with any other input. "
   ]
  },
  {
   "cell_type": "code",
   "execution_count": null,
   "metadata": {
    "colab": {},
    "colab_type": "code",
    "id": "OHRLbtKA0Ypy"
   },
   "outputs": [],
   "source": [
    "#write your code here\n",
    "print(\"Enter number 1\")\n",
    "number1 = int(input())\n",
    "\n",
    "print(\"Enter number 2\")\n",
    "number2 = int(input()) \n",
    "\n",
    "print(\"Enter the operation\")\n",
    "op= int(input())\n",
    "\n",
    "print(\"The solution is\\n\")\n",
    "if(op==1):\n",
    "    print(number1+number2)\n",
    "elif(op==2):\n",
    "    print(number1-number2)\n",
    "elif(op==3):\n",
    "    print(number1*number2)\n",
    "elif(op==4):\n",
    "    print(number1/number2)\n",
    "else:\n",
    "    print(\"Invalid Input!\")"
   ]
  },
  {
   "cell_type": "markdown",
   "metadata": {
    "colab_type": "text",
    "id": "MgG02IAprDGx"
   },
   "source": [
    "### Q3. Write a loop to print all the numbers below 100 that are divisible by 2 and 3. "
   ]
  },
  {
   "cell_type": "code",
   "execution_count": null,
   "metadata": {
    "colab": {},
    "colab_type": "code",
    "id": "4zJpOqymyQ41"
   },
   "outputs": [],
   "source": [
    "#write your code here\n",
    "for number in range(1,100):\n",
    "    if(number%2==0 and number%3==0):\n",
    "        print(number)"
   ]
  },
  {
   "cell_type": "markdown",
   "metadata": {
    "colab_type": "text",
    "id": "JdsIRRbErDG3"
   },
   "source": [
    "### Q4. Add all user inputs until sum is lesser than 50. "
   ]
  },
  {
   "cell_type": "code",
   "execution_count": null,
   "metadata": {
    "colab": {},
    "colab_type": "code",
    "id": "q0g0_xHuySAG"
   },
   "outputs": [],
   "source": [
    "#write your code here\n",
    "sum=0\n",
    "while (sum<50):\n",
    "    digit=int(input(\"Enter a number\"))\n",
    "    sum=sum+digit\n",
    "print(\"sum is\", sum)"
   ]
  },
  {
   "cell_type": "markdown",
   "metadata": {
    "colab_type": "text",
    "id": "11tnaUJ5rDG9"
   },
   "source": [
    "### Q5. Write a loop to print the first 100 prime numbers. "
   ]
  },
  {
   "cell_type": "code",
   "execution_count": null,
   "metadata": {
    "colab": {},
    "colab_type": "code",
    "id": "1P-Uc7asyPBI"
   },
   "outputs": [],
   "source": [
    "#write your code here\n",
    "for num in range(2,100):\n",
    "    for number in range(2,num):\n",
    "        if(num%number==0):\n",
    "            break\n",
    "    else:\n",
    "        print(num)"
   ]
  },
  {
   "cell_type": "markdown",
   "metadata": {
    "colab_type": "text",
    "id": "svD67KO6rDHD"
   },
   "source": [
    "### Q6. Count the number of uppercase and lowercase characters in a string"
   ]
  },
  {
   "cell_type": "code",
   "execution_count": null,
   "metadata": {
    "colab": {},
    "colab_type": "code",
    "id": "QveuJTdu0bmA"
   },
   "outputs": [],
   "source": [
    "#write your code here\n",
    "sum_upper=0\n",
    "sum_lower=0\n",
    "\n",
    "word=input(\"Enter word \")\n",
    "\n",
    "for letter in word:\n",
    "    if(letter.isupper()):\n",
    "        sum_upper+=1\n",
    "    elif(letter.islower()):\n",
    "        sum_lower+=1\n",
    "print(\"sum of upper\",sum_upper,\"sum of lower\" ,sum_lower)"
   ]
  },
  {
   "cell_type": "markdown",
   "metadata": {
    "colab_type": "text",
    "id": "3lDUKki1rDHI"
   },
   "source": [
    "### Q7. Find if a word is a palindrome.  "
   ]
  },
  {
   "cell_type": "code",
   "execution_count": null,
   "metadata": {
    "colab": {},
    "colab_type": "code",
    "id": "SXJVCTGQrDHI"
   },
   "outputs": [],
   "source": [
    "#write your code here\n",
    "string=input(\"Enter string:\")\n",
    "if(string==string[::-1]):\n",
    "      print(\"The string is a palindrome\")\n",
    "else:\n",
    "      print(\"The string isn't a palindrome\")"
   ]
  },
  {
   "cell_type": "markdown",
   "metadata": {},
   "source": [
    "<h2 align='center'> Advanced Python Workshop Solutions </h2>"
   ]
  },
  {
   "cell_type": "markdown",
   "metadata": {},
   "source": [
    "<h3>Data Structures</h3>"
   ]
  },
  {
   "cell_type": "markdown",
   "metadata": {},
   "source": [
    "1. Define a list of all numbers between 100 and 1000 which are divisible by both 2 and 3.\n",
    "2. Update this list in such a way that every alternate element of this list is equal to 0.\n",
    "3. Can  lists and tuples be assigned as value in a dictionary?\n",
    "4. What does a list inside a list (nested list) represent? How to access its values?"
   ]
  },
  {
   "cell_type": "code",
   "execution_count": null,
   "metadata": {},
   "outputs": [],
   "source": [
    "#Alternate 1\n",
    "a = [x for x in range(100,1000) if ((x%2==0)and(x%3==0))]\n",
    "\n",
    "#Alternate 2\n",
    "b= [x for x in range(100,1000) if ((x%6==0))]\n",
    "\n",
    "#Alternate 3\n",
    "c=[]\n",
    "for x in range(100,1000):\n",
    "    if (x%6==0):\n",
    "        c.append(x)\n",
    "\n",
    "#print(a)"
   ]
  },
  {
   "cell_type": "code",
   "execution_count": null,
   "metadata": {},
   "outputs": [],
   "source": [
    "for i in range(0,len(a),2):\n",
    "    a[i]=0\n",
    "#print(a)"
   ]
  },
  {
   "cell_type": "code",
   "execution_count": null,
   "metadata": {},
   "outputs": [],
   "source": [
    "dict1 = {\n",
    "    'list':[0,1,2,3,4],\n",
    "    'tuple':(5,2,4),\n",
    "    'dict':{'x':10,'y':30}\n",
    "}\n",
    "print(dict1['list'])\n",
    "print(dict1['list'][0])\n",
    "print(dict1['tuple'])\n",
    "print(dict1['tuple'][0])\n",
    "\n",
    "print(dict1['dict'])\n",
    "print(dict1['dict']['x'])"
   ]
  },
  {
   "cell_type": "code",
   "execution_count": null,
   "metadata": {},
   "outputs": [],
   "source": [
    "#list inside a list is known as a nested list. It is used to represent data with more than one dimension\n",
    "\n",
    "list2d = [[1 ,2 ,3 ,4 ],\n",
    "          [0 ,6 ,9 ,10],\n",
    "          [9 ,7 ,12,54],\n",
    "          [61,90,74,1 ]]\n",
    "\n",
    "print(list2d[3][1]) #value of 4th row and 2rd column"
   ]
  },
  {
   "cell_type": "markdown",
   "metadata": {},
   "source": [
    "<h3> Recursion </h3>"
   ]
  },
  {
   "cell_type": "markdown",
   "metadata": {},
   "source": [
    "1. Write a function that determines how many digits a number has using recursion.\n",
    "2. Write a function which prints the n'th Fibonacci number using recursion.\n",
    "3. Write a function which prints the sum of first n numbers using recursion."
   ]
  },
  {
   "cell_type": "code",
   "execution_count": null,
   "metadata": {},
   "outputs": [],
   "source": [
    "def length(num):\n",
    "    if (int(num/10)==0):\n",
    "        return 1\n",
    "    else:\n",
    "        return (1+length(int(num/10)))\n",
    "    \n",
    "length(11)"
   ]
  },
  {
   "cell_type": "code",
   "execution_count": null,
   "metadata": {},
   "outputs": [],
   "source": [
    "def fibo(n):\n",
    "    if (n<=1):\n",
    "        return (n)\n",
    "    else:\n",
    "        return (fibo(n-1)+fibo(n-2))\n",
    "#print(fibo(4))\n",
    "for i in range(5):\n",
    "    print(fibo(i))"
   ]
  },
  {
   "cell_type": "code",
   "execution_count": null,
   "metadata": {},
   "outputs": [],
   "source": [
    "def sumn(n):\n",
    "    if (n==0):\n",
    "        return (n)\n",
    "    else:\n",
    "        return (sumn(n-1)+n)\n",
    "#print(sumn(4))\n",
    "for i in range(5):\n",
    "    print(sumn(i))"
   ]
  },
  {
   "cell_type": "markdown",
   "metadata": {},
   "source": [
    "<h3> File Handling and RegEx </h3>"
   ]
  },
  {
   "cell_type": "markdown",
   "metadata": {},
   "source": [
    "Your task is to extract all the dates that are present in the text file 'scraping_regex.txt'"
   ]
  },
  {
   "cell_type": "code",
   "execution_count": null,
   "metadata": {},
   "outputs": [],
   "source": [
    "import re\n",
    "text = open('scraping_regex.txt') #open text file\n",
    "for line in text: #iterate through every line\n",
    "#return list of dates in that line\n",
    "    x = re.findall('[a-zA-Z]+\\s[0-9][0-9],\\s[0-9][0-9][0-9][0-9]', line) \n",
    "#if a date is found\n",
    "    if len(x) != 0:\n",
    "        print(x)"
   ]
  }
 ],
 "metadata": {
  "colab": {
   "collapsed_sections": [
    "U4mvdVfTrDGh"
   ],
   "name": "Copy of basicWorkshop.ipynb",
   "provenance": [],
   "version": "0.3.2"
  },
  "kernelspec": {
   "display_name": "Python 3",
   "language": "python",
   "name": "python3"
  },
  "language_info": {
   "codemirror_mode": {
    "name": "ipython",
    "version": 3
   },
   "file_extension": ".py",
   "mimetype": "text/x-python",
   "name": "python",
   "nbconvert_exporter": "python",
   "pygments_lexer": "ipython3",
   "version": "3.5.6"
  }
 },
 "nbformat": 4,
 "nbformat_minor": 1
}
